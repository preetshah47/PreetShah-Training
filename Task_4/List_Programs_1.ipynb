{
 "cells": [
  {
   "cell_type": "markdown",
   "metadata": {},
   "source": [
    " 0. Find out multiple ways of determining variable data type like integer, string or list."
   ]
  },
  {
   "cell_type": "code",
   "execution_count": 5,
   "metadata": {},
   "outputs": [
    {
     "name": "stdout",
     "output_type": "stream",
     "text": [
      "<class 'tuple'> <class 'set'> <class 'bool'> <class 'int'> <class 'str'> <class 'list'>\n",
      "True\n",
      "<class 'list'>\n"
     ]
    }
   ],
   "source": [
    "x = 1\n",
    "y = '1'\n",
    "z = [1,2,3]\n",
    "a = (1,2,3)\n",
    "b = {1,2,3}\n",
    "c = True\n",
    "\n",
    "print(type(a), type(b), type(c), type(x), type(y), type(z))\n",
    "print(isinstance(x,int))\n",
    "print(z.__class__)"
   ]
  },
  {
   "cell_type": "markdown",
   "metadata": {},
   "source": [
    " 1. Write a Python program to sum all the items in a list."
   ]
  },
  {
   "cell_type": "code",
   "execution_count": 24,
   "metadata": {},
   "outputs": [
    {
     "name": "stdout",
     "output_type": "stream",
     "text": [
      "17\n",
      "The sum is :  9\n"
     ]
    }
   ],
   "source": [
    "lst1 = [2,3,4,5,3]\n",
    "lst = input(\"Enter the elements for list:- \").split()\n",
    "lst = [int(x) for x in lst] \n",
    "print(lst)\n",
    "result = 0\n",
    "for i in lst1:\n",
    "    result += i\n",
    "print(result)\n",
    "print(\"The sum is : \", sum(lst))"
   ]
  },
  {
   "cell_type": "markdown",
   "metadata": {},
   "source": [
    "2. Write a Python program to multiply all the items in a list."
   ]
  },
  {
   "cell_type": "code",
   "execution_count": 16,
   "metadata": {},
   "outputs": [
    {
     "name": "stdout",
     "output_type": "stream",
     "text": [
      "1200\n"
     ]
    }
   ],
   "source": [
    "lst = input(\"Enter the elements for list:- \").split()\n",
    "lst = [int(x) for x in lst] \n",
    "print(lst)\n",
    "result = 1\n",
    "for i in lst:\n",
    "    result = result * i\n",
    "print(result)"
   ]
  },
  {
   "cell_type": "markdown",
   "metadata": {},
   "source": [
    "3. Write a python program to find the second maximum number from a list of numbers."
   ]
  },
  {
   "cell_type": "code",
   "execution_count": 10,
   "metadata": {},
   "outputs": [
    {
     "name": "stdout",
     "output_type": "stream",
     "text": [
      "[5, 9, 86, 4]\n",
      "9\n"
     ]
    }
   ],
   "source": [
    "lst = input(\"Enter the elements for list:- \").split()\n",
    "lst = [int(x) for x in lst] \n",
    "print(lst)\n",
    "lst.sort()\n",
    "print(lst[-2])\n"
   ]
  },
  {
   "cell_type": "markdown",
   "metadata": {},
   "source": [
    "4. Write a python program to add integer values into a list.\n",
    "    Add value at the beginning of the list if the value is odd.\n",
    "    Add value at the end of the list if the value is even.\n"
   ]
  },
  {
   "cell_type": "code",
   "execution_count": 9,
   "metadata": {},
   "outputs": [
    {
     "name": "stdout",
     "output_type": "stream",
     "text": [
      "[1, 2, 3]\n",
      "The number entered is 5 & the resultant list is :- [5, 1, 2, 3]\n"
     ]
    }
   ],
   "source": [
    "lst = input(\"Enter the elements for list:- \").split()\n",
    "lst = [int(x) for x in lst] \n",
    "print(lst)\n",
    "x = int(input(\"Enter the value to add to the list:- \"))\n",
    "if x % 2 == 0 :\n",
    "    lst.append(x)\n",
    "else:\n",
    "    lst.insert(0,x) \n",
    "print(f\"The number entered is {x} & the resultant list is :- {lst}\")"
   ]
  },
  {
   "cell_type": "markdown",
   "metadata": {},
   "source": [
    "5. Write a python program to find and count how many times value is repeated in the list.\n",
    "    - lst = [1,2,3,4,5,4,3,5,3,1,3,5,7,6,3,2,1,5,7,6,6]\n",
    "    Result :\n",
    "    - result = [(1,3),(2,2),(3,5),(4,2),(5,4),(7,2),(6,3)]\n"
   ]
  },
  {
   "cell_type": "code",
   "execution_count": 18,
   "metadata": {},
   "outputs": [
    {
     "name": "stdout",
     "output_type": "stream",
     "text": [
      "Entered list is : [1, 2, 3, 4, 5, 4, 3, 5, 3, 1, 3, 5, 7, 6, 3, 2, 1, 5, 7, 6, 6]\n",
      "Result: [(1, 3), (2, 2), (3, 5), (4, 2), (5, 4), (7, 2), (6, 3)]\n"
     ]
    }
   ],
   "source": [
    "lst = input(\"Enter the elements for list:- \").split()\n",
    "lst = [int(x) for x in lst] \n",
    "print(f\"Entered list is : {lst}\")\n",
    "\n",
    "count_dict = {}\n",
    "\n",
    "for i in lst:\n",
    "    if i in count_dict:\n",
    "        count_dict[i] += 1\n",
    "    else:\n",
    "        count_dict[i] = 1\n",
    "\n",
    "result = list(count_dict.items())\n",
    "print(\"Result: {}\".format(result))\n",
    "\n",
    "\n",
    "\n"
   ]
  },
  {
   "cell_type": "markdown",
   "metadata": {},
   "source": [
    "6. Write a python program to filter out the list of numbers that are odd and even\n",
    "    - lst = [1,2,3,4,5,6,7,8,9]\n",
    "    Result :\n",
    "    - odd_numbers = [1,3,5,7,9]\n",
    "    - even_numbers = [2,4,6,8]\n"
   ]
  },
  {
   "cell_type": "code",
   "execution_count": 8,
   "metadata": {},
   "outputs": [
    {
     "name": "stdout",
     "output_type": "stream",
     "text": [
      "[1, 2, 3, 4, 5, 6, 7, 8, 9]\n",
      "Result: - \n",
      "even_numbers = [2, 4, 6, 8]\n",
      "odd_numbers = [1, 3, 5, 7, 9]\n"
     ]
    }
   ],
   "source": [
    "lst = input(\"Enter the elements for list:- \").split()\n",
    "lst = [int(x) for x in lst] \n",
    "print(lst)\n",
    "odd_numbers = []\n",
    "even_numbers = []\n",
    "for i in lst:\n",
    "    if i % 2 == 0:\n",
    "        even_numbers.append(i)\n",
    "    else:\n",
    "        odd_numbers.append(i)\n",
    "print(f\"Result: - \\neven_numbers = {even_numbers}\\nodd_numbers = {odd_numbers}\")\n",
    "\n"
   ]
  },
  {
   "cell_type": "markdown",
   "metadata": {},
   "source": [
    "7. Write a python program to determine if the switch is on or off,\n",
    "    - use the given truth table for checking values and showing results.\n",
    "--------------------------------------------\n",
    "main_input    input1    input2    result\n",
    "--------------------------------------------\n",
    "0           \t0            0           0\n",
    "0           \t0            1           0\n",
    "0           \t1            0           0\n",
    "0           \t1            1           0\n",
    "1           \t0            0           0\n",
    "1           \t0            1           1\n",
    "1           \t1            0           1\n",
    "1           \t1            1           1"
   ]
  },
  {
   "cell_type": "code",
   "execution_count": 32,
   "metadata": {},
   "outputs": [
    {
     "name": "stdout",
     "output_type": "stream",
     "text": [
      "1\n"
     ]
    }
   ],
   "source": [
    "def switch(main_input,input1,input2):\n",
    "    if main_input == 0:\n",
    "        return main_input\n",
    "    else:\n",
    "        if input1 == 0 and input2 == 0:\n",
    "            return input1\n",
    "        else:\n",
    "            return main_input\n",
    "\n",
    "main_input,input1,input2 = list(map(int, input(\"Enter multiple numbers separated by space: \").split()))\n",
    "result = switch(main_input,input1,input2)\n",
    "print (result)"
   ]
  }
 ],
 "metadata": {
  "kernelspec": {
   "display_name": "Venv",
   "language": "python",
   "name": "python3"
  },
  "language_info": {
   "codemirror_mode": {
    "name": "ipython",
    "version": 3
   },
   "file_extension": ".py",
   "mimetype": "text/x-python",
   "name": "python",
   "nbconvert_exporter": "python",
   "pygments_lexer": "ipython3",
   "version": "3.8.10"
  }
 },
 "nbformat": 4,
 "nbformat_minor": 2
}
