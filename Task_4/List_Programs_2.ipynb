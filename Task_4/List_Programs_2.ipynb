{
 "cells": [
  {
   "cell_type": "markdown",
   "metadata": {},
   "source": [
    "1. Simple way to keep asking user for input it stops until user enters nothing.\n"
   ]
  },
  {
   "cell_type": "code",
   "execution_count": 1,
   "metadata": {},
   "outputs": [
    {
     "name": "stdout",
     "output_type": "stream",
     "text": [
      "Your Entered value is : 1\n",
      "Your Entered value is : 2\n",
      "Your Entered value is : 6\n"
     ]
    }
   ],
   "source": [
    "while True:\n",
    "    x = input(\"Enter any input:- \")\n",
    "    if not x:\n",
    "        break\n",
    "    print(\"Your Entered value is : {}\".format(x))"
   ]
  },
  {
   "cell_type": "markdown",
   "metadata": {},
   "source": [
    "2. Write a python program to add multiple values from user  into a list, Find out the type of a value and store that value as its type\n",
    "    a. Input will be string all the time but we can still see if it is integer value or not by string functions, use then to determine the value type and then convert the value and then store inside a list\\\n",
    "    b. Keep adding the value from the user until user enters nothing.\n"
   ]
  },
  {
   "cell_type": "code",
   "execution_count": 6,
   "metadata": {},
   "outputs": [
    {
     "name": "stdout",
     "output_type": "stream",
     "text": [
      "value :- nefeoifeojf & type :- <class 'str'>\n",
      "value :- 97 & type :- <class 'int'>\n",
      "value :- 9.834734342 & type :- <class 'float'>\n"
     ]
    }
   ],
   "source": [
    "lst = []\n",
    "while True:\n",
    "    u_input = input(\"Enter the input:- \")\n",
    "    if not u_input:\n",
    "        break\n",
    "    if u_input.isdigit():\n",
    "        lst.append(int(u_input))\n",
    "    elif u_input.replace('.',\"\").isdigit() and u_input.count('.') == 1:\n",
    "        lst.append(float(u_input))\n",
    "    else:\n",
    "        lst.append(u_input)\n",
    "for i in lst:\n",
    "    print(f\"value :- {i} & type :- {type(i)}\")\n"
   ]
  },
  {
   "cell_type": "markdown",
   "metadata": {},
   "source": [
    "3. Enter only integer values into a list from user. Keep adding the value until user enters nothing, \n",
    "    a. If user’s entered value is not integer then give a warning message to user that the entered value is not integer and then ask for new value.\n",
    "    b. At the end print the list with all its integer value(Type of those values must be integer)\n"
   ]
  },
  {
   "cell_type": "code",
   "execution_count": 14,
   "metadata": {},
   "outputs": [
    {
     "name": "stdout",
     "output_type": "stream",
     "text": [
      "Entered list is :- [8, 6, 54, 9999]\n",
      "Entered Value of list :- 8 & type:- <class 'int'>\n",
      "Entered Value of list :- 6 & type:- <class 'int'>\n",
      "Entered Value of list :- 54 & type:- <class 'int'>\n",
      "Entered Value of list :- 9999 & type:- <class 'int'>\n"
     ]
    }
   ],
   "source": [
    "lst = []\n",
    "while True:\n",
    "    u_input = input(\"Enter the input:- \")\n",
    "    if not u_input:\n",
    "        break\n",
    "    if u_input.isdigit():\n",
    "        lst.append(int(u_input))\n",
    "    else:\n",
    "        print(\"Warning : The Entered Value is not integer. Enter New Value:- \\n\")\n",
    "\n",
    "print(f\"Entered list is :- {lst}\")\n",
    "\n",
    "for i in lst:\n",
    "    print(f\"Entered Value of list :- {i} & type:- {type(i)}\")\n",
    "    "
   ]
  },
  {
   "cell_type": "markdown",
   "metadata": {},
   "source": [
    "4. Manage a shopping list with python list,\n",
    "    a. Enter shopping item from user into a list,\n",
    "    b. Keep asking for item names until user enters nothing.\n",
    "    c. At the end print the list.\n"
   ]
  },
  {
   "cell_type": "code",
   "execution_count": 18,
   "metadata": {},
   "outputs": [
    {
     "name": "stdout",
     "output_type": "stream",
     "text": [
      "The Entered Shopping list is :- ['car ', 'house', 'island', 'helicopter', 'aeroplane', 'fighterjet']\n"
     ]
    }
   ],
   "source": [
    "shopping_list = []\n",
    "while True:\n",
    "    s_list = input(\"Enter the item name:- \")\n",
    "    if not s_list:\n",
    "        break\n",
    "    shopping_list.append(s_list)\n",
    "print(\"The Entered Shopping list is :- {}\".format(shopping_list))"
   ]
  },
  {
   "cell_type": "markdown",
   "metadata": {},
   "source": [
    "5. Manage two lists to store an integer values.\n",
    "    a. Enter value from user\n",
    "    b. If the value is odd number then store that number into first list\n",
    "    c. If the value is even number then store that number into second list\n",
    "    d. At the end print both list\n",
    "    e. Also print one maximum number out of two lists\n"
   ]
  },
  {
   "cell_type": "code",
   "execution_count": 3,
   "metadata": {},
   "outputs": [
    {
     "name": "stdout",
     "output_type": "stream",
     "text": [
      "Odd number containing list : [1, 3, 5, 7, 9, 99]\n",
      "Even number containing list : [2, 4, 6, 8, 100]\n",
      "Maximum number for the followin list :- \n",
      "Odd List :- 99 \n",
      "Even List :- 100\n"
     ]
    }
   ],
   "source": [
    "lst1 = []\n",
    "lst2 = []\n",
    "while True:\n",
    "    u_input = int(input(\"Enter the number:- \"))\n",
    "    if not u_input:\n",
    "        break\n",
    "    if u_input % 2 == 0:\n",
    "        lst2.append(int(u_input))\n",
    "    else:\n",
    "        lst1.append(int(u_input))\n",
    "\n",
    "print(f\"Odd number containing list : {lst1}\\nEven number containing list : {lst2}\")\n",
    "lst1.sort()\n",
    "lst2.sort()\n",
    "print(f\"Maximum number for the followin list :- \\nOdd List :- {lst1[-1]} \\nEven List :- {lst2[-1]}\")"
   ]
  },
  {
   "cell_type": "markdown",
   "metadata": {},
   "source": [
    "6. Manage two lists, so that you can manage customer name and customer shopping list\n",
    "    a. In one list enter customer name.\n",
    "    b. In second list enter customer shopping items\n",
    "    c. So it will look like this\n",
    "        i) Lst1 = [‘Bhaskar’, ’Vishal’, ‘Dhara’]\n",
    "       ii) Lst2 = [[‘apple’,’orange’], [‘banana’,’weat floor’], [‘butter milk’,’apple juice’]]\n",
    "    d. Print the two lists like this:\n",
    "        i) Bhaskar : [‘apple’,’orange’]\n",
    "       ii) Vishal : [‘banana’,’weat floor’]\n",
    "      iii) Dhara : [‘butter milk’,’apple juice’]\n",
    "Note : Keep asking user to enter values until user enters nothing."
   ]
  },
  {
   "cell_type": "code",
   "execution_count": 5,
   "metadata": {},
   "outputs": [
    {
     "name": "stdout",
     "output_type": "stream",
     "text": [
      "bhaskar : ['apple', 'orange']\n",
      "vishal : ['apple', 'weat floor']\n",
      "dhara : ['butter milk', 'apple juice']\n"
     ]
    }
   ],
   "source": [
    "customer_name_list = []\n",
    "customer_shopping_list = []\n",
    "while True:\n",
    "    customer_name_list_input = input(\"Enter the Customer name:- \")\n",
    "    if not customer_name_list_input:\n",
    "        break\n",
    "    customer_name_list.append(customer_name_list_input)\n",
    "\n",
    "    items = []\n",
    "    while True:\n",
    "        item = input(\"Enter the shopping item :- \")\n",
    "        if not item:\n",
    "            break\n",
    "        items.append(item)\n",
    "    customer_shopping_list.append(items)\n",
    "\n",
    "for i in range(len(customer_name_list)):\n",
    "    print(f\"{customer_name_list[i]} : {customer_shopping_list[i]}\")"
   ]
  },
  {
   "cell_type": "markdown",
   "metadata": {},
   "source": [
    "7. Wite a python program to enter multiple values into a two lists and merge them but remove duplication of value only appear one time.\n",
    "    a. Do this with multiple ways/logics as many as you can.\n"
   ]
  },
  {
   "cell_type": "code",
   "execution_count": 12,
   "metadata": {},
   "outputs": [
    {
     "name": "stdout",
     "output_type": "stream",
     "text": [
      "['3', '3', '3', '36', '6', '3', '35'] ['65', '3', '3', '3', '3', '36', '6', '6', '6', '6']\n",
      "The merge list using set is:- ['36', '65', '3', '6', '35']\n",
      "The merge list using dictionary is:- ['3', '36', '6', '35', '65']\n"
     ]
    }
   ],
   "source": [
    "lst1 = []\n",
    "lst2 = []\n",
    "\n",
    "while True:\n",
    "    u_input = input(\"Enter the input for lst1:- \")\n",
    "    if not u_input:\n",
    "        break\n",
    "    lst1.append(u_input)\n",
    "\n",
    "while True:\n",
    "    u_input = input(\"Enter the input for lst2:- \")\n",
    "    if not u_input:\n",
    "        break\n",
    "    lst2.append(u_input)\n",
    "\n",
    "print(lst1,lst2)\n",
    "merge_list = list(set(lst1 + lst2))\n",
    "print(\"The merge list using set is:- {}\".format(merge_list))\n",
    "merge_dict = list(dict.fromkeys(lst1+lst2))\n",
    "print(\"The merge list using dictionary is:- {}\".format(merge_dict))"
   ]
  },
  {
   "cell_type": "markdown",
   "metadata": {},
   "source": [
    "8. Write a python program to manage shopping list.\n",
    "    a. Use list to store item name\n",
    "    b. Keep adding the items into list until user enters nothing\n",
    "    c. Perform the below operations\n",
    "        i) Display list\n",
    "       ii) Add one item into list\n",
    "      iii) Add multiple items into list\n",
    "       iv) Insert an item on a specific place into list\n",
    "        v) Remove item from list(last item)\n",
    "       vi) Remove item from list(item name)\n",
    "      vii) Empty list\n"
   ]
  },
  {
   "cell_type": "code",
   "execution_count": 2,
   "metadata": {},
   "outputs": [
    {
     "name": "stdout",
     "output_type": "stream",
     "text": [
      "Enter your choice:- \n",
      "i)   Display list\n",
      "ii)  Add one item into list\n",
      "iii) Add multiple items into list\n",
      "iv)  Insert an item on a specific place into list\n",
      "v)   Remove item from list(last item)\n",
      "vi)  Remove item from list(item name)\n",
      "vii) Empty list\n",
      "viii)To End\n"
     ]
    },
    {
     "ename": "ValueError",
     "evalue": "invalid literal for int() with base 10: ''",
     "output_type": "error",
     "traceback": [
      "\u001b[0;31m---------------------------------------------------------------------------\u001b[0m",
      "\u001b[0;31mValueError\u001b[0m                                Traceback (most recent call last)",
      "Cell \u001b[0;32mIn[2], line 54\u001b[0m\n\u001b[1;32m     52\u001b[0m \u001b[38;5;28;01mwhile\u001b[39;00m \u001b[38;5;28;01mTrue\u001b[39;00m:\n\u001b[1;32m     53\u001b[0m     main()\n\u001b[0;32m---> 54\u001b[0m     choice \u001b[38;5;241m=\u001b[39m \u001b[38;5;28;43mint\u001b[39;49m\u001b[43m(\u001b[49m\u001b[38;5;28;43minput\u001b[39;49m\u001b[43m(\u001b[49m\u001b[38;5;124;43m\"\u001b[39;49m\u001b[38;5;124;43mEnter your choice:- \u001b[39;49m\u001b[38;5;124;43m\"\u001b[39;49m\u001b[43m)\u001b[49m\u001b[43m)\u001b[49m\n\u001b[1;32m     56\u001b[0m     \u001b[38;5;28;01mif\u001b[39;00m choice \u001b[38;5;241m==\u001b[39m \u001b[38;5;241m1\u001b[39m:\n\u001b[1;32m     57\u001b[0m         display_list()\n",
      "\u001b[0;31mValueError\u001b[0m: invalid literal for int() with base 10: ''"
     ]
    }
   ],
   "source": [
    "def main():\n",
    "    print(\"Enter your choice:- \\ni)   Display list\\nii)  Add one item into list\\niii) Add multiple items into list\\niv)  Insert an item on a specific place into list\\nv)   Remove item from list(last item)\\nvi)  Remove item from list(item name)\\nvii) Empty list\\nviii)To End\")\n",
    "\n",
    "shopping_list= []\n",
    "\n",
    "def display_list():\n",
    "    if shopping_list:\n",
    "        print(\"Displaying Shopping List:- \", shopping_list)\n",
    "    else:\n",
    "        print(\"Shopping list is empty, please add item to list!\")\n",
    "\n",
    "def add_one_item():\n",
    "    item = input(\"Enter one item to add to the shopping list:- \")\n",
    "    shopping_list.append(item)\n",
    "    if item:\n",
    "        print(f\"{item} item is added to the shopping list\")\n",
    "    else:\n",
    "        print(\"No item is added\")\n",
    "\n",
    "def add_multiple_item():\n",
    "    items = input(\"Enter multiple items to the shopping list:- \").split(\",\")\n",
    "    shopping_list.extend(item.strip() for item in items)\n",
    "    print(\"Items are added to the list.\")\n",
    "\n",
    "def Insert_Item_SpecificPosition():\n",
    "    item = input(\"Enter one item to insert to the shopping list:- \")\n",
    "    if item:\n",
    "        position = int(input(\"Enter the position you want to insert the item in the shopping list:- \"))\n",
    "        shopping_list.insert(position - 1,item)\n",
    "    else:\n",
    "        print(\"No item is inserted.\")\n",
    "\n",
    "def Remove_last_item():\n",
    "    if shopping_list:\n",
    "        r_item = shopping_list.pop()\n",
    "        print(f\"{r_item} is removed from the shopping list.\")\n",
    "    else:\n",
    "        print(\"The shopping list is already empty.\")\n",
    "\n",
    "def Remove_item_name():\n",
    "    item = input(\"Enter the item to be removed from the shopping list:- \")\n",
    "    if item in shopping_list:\n",
    "        shopping_list.remove(item)\n",
    "        print(\"{} is removed from the list\".format(item))\n",
    "    else:\n",
    "        print(\"Entered item is not present in the list.\")\n",
    "\n",
    "def Empty_List():\n",
    "    shopping_list.clear()\n",
    "    print(\"The shopping list is now empty.\")\n",
    "\n",
    "while True:\n",
    "    main()\n",
    "    choice = int(input(\"Enter your choice:- \"))\n",
    "\n",
    "    if choice == 1:\n",
    "        display_list()\n",
    "    elif choice == 2:\n",
    "        add_one_item()\n",
    "    elif choice == 3:\n",
    "        add_multiple_item()\n",
    "    elif choice == 4:\n",
    "        Insert_Item_SpecificPosition()\n",
    "    elif choice == 5:\n",
    "        Remove_last_item()\n",
    "    elif choice == 6:\n",
    "        Remove_item_name()\n",
    "    elif choice == 7:\n",
    "        Empty_List()\n",
    "    elif choice == 8:\n",
    "        print(\"Program Ended\")\n",
    "        break\n",
    "    else:\n",
    "        print(\"Please enter valid choice!\")\n",
    "\n",
    "\n"
   ]
  },
  {
   "cell_type": "code",
   "execution_count": null,
   "metadata": {},
   "outputs": [],
   "source": []
  }
 ],
 "metadata": {
  "kernelspec": {
   "display_name": "Venv",
   "language": "python",
   "name": "python3"
  },
  "language_info": {
   "codemirror_mode": {
    "name": "ipython",
    "version": 3
   },
   "file_extension": ".py",
   "mimetype": "text/x-python",
   "name": "python",
   "nbconvert_exporter": "python",
   "pygments_lexer": "ipython3",
   "version": "3.8.10"
  }
 },
 "nbformat": 4,
 "nbformat_minor": 2
}
